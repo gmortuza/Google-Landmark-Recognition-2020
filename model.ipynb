{
  "nbformat": 4,
  "nbformat_minor": 0,
  "metadata": {
    "kernelspec": {
      "display_name": "ml",
      "language": "python",
      "name": "ml"
    },
    "language_info": {
      "codemirror_mode": {
        "name": "ipython",
        "version": 3
      },
      "file_extension": ".py",
      "mimetype": "text/x-python",
      "name": "python",
      "nbconvert_exporter": "python",
      "pygments_lexer": "ipython3",
      "version": "3.7.7"
    },
    "toc": {
      "base_numbering": 1,
      "nav_menu": {},
      "number_sections": true,
      "sideBar": true,
      "skip_h1_title": false,
      "title_cell": "Table of Contents",
      "title_sidebar": "Contents",
      "toc_cell": false,
      "toc_position": {},
      "toc_section_display": true,
      "toc_window_display": false
    },
    "varInspector": {
      "cols": {
        "lenName": 16,
        "lenType": 16,
        "lenVar": 40
      },
      "kernels_config": {
        "python": {
          "delete_cmd_postfix": "",
          "delete_cmd_prefix": "del ",
          "library": "var_list.py",
          "varRefreshCmd": "print(var_dic_list())"
        },
        "r": {
          "delete_cmd_postfix": ") ",
          "delete_cmd_prefix": "rm(",
          "library": "var_list.r",
          "varRefreshCmd": "cat(var_dic_list()) "
        }
      },
      "types_to_exclude": [
        "module",
        "function",
        "builtin_function_or_method",
        "instance",
        "_Feature"
      ],
      "window_display": false
    },
    "colab": {
      "name": "model.ipynb",
      "provenance": [],
      "include_colab_link": true
    },
    "accelerator": "GPU"
  },
  "cells": [
    {
      "cell_type": "markdown",
      "metadata": {
        "id": "view-in-github",
        "colab_type": "text"
      },
      "source": [
        "<a href=\"https://colab.research.google.com/github/gmortuza/Google-Landmark-Recognition-2020/blob/master/model.ipynb\" target=\"_parent\"><img src=\"https://colab.research.google.com/assets/colab-badge.svg\" alt=\"Open In Colab\"/></a>"
      ]
    },
    {
      "cell_type": "markdown",
      "metadata": {
        "id": "gfQYF21AvtXA",
        "colab_type": "text"
      },
      "source": [
        "\n",
        "Copy dataset & Importing module & defining constant\n",
        "---\n",
        "\n"
      ]
    },
    {
      "cell_type": "code",
      "metadata": {
        "id": "KdzIX7Shtfnd",
        "colab_type": "code",
        "colab": {}
      },
      "source": [
        "# Moving dataset from google drive to colab sessions\n",
        "# The kaggle dataset is huge(~100GB). Copying that amount of data in every session is not feasible. \n",
        "# So created a sample data set. \n",
        "# Which I updloaded into the drive\n",
        "from google.colab import drive\n",
        "drive.mount(\"/content/drive\")\n",
        "!mkdir data\n",
        "!mkdir data/train\n",
        "!cp \"/content/drive/My Drive/kaggle_competition/Google_Landmark_Recognition_2020/data.zip\" /content/data/train\n",
        "!unzip /content/data/train/data.zip"
      ],
      "execution_count": null,
      "outputs": []
    },
    {
      "cell_type": "code",
      "metadata": {
        "ExecuteTime": {
          "end_time": "2020-09-16T08:06:40.326098Z",
          "start_time": "2020-09-16T08:06:40.315907Z"
        },
        "id": "88GA9inatd5f",
        "colab_type": "code",
        "colab": {}
      },
      "source": [
        "#%%\n",
        "# Importing necessary module\n",
        "import os\n",
        "import numpy as np\n",
        "import tensorflow as tf\n",
        "from tensorflow.keras.applications import VGG19\n",
        "from tensorflow.keras.models import Model\n",
        "from tensorflow.keras.layers import Conv2D, MaxPool2D, Flatten, Dense, Dropout\n",
        "from tensorflow.keras.models import Sequential\n",
        "from tensorflow.keras import optimizers\n",
        "from tensorflow.keras.preprocessing.image import ImageDataGenerator\n",
        "from keras.utils import to_categorical\n",
        "from keras.callbacks import ModelCheckpoint\n",
        "from keras.callbacks import ReduceLROnPlateau\n",
        "import matplotlib.pyplot as plt\n",
        "import glob\n",
        "import pandas as pd"
      ],
      "execution_count": 131,
      "outputs": []
    },
    {
      "cell_type": "code",
      "metadata": {
        "ExecuteTime": {
          "end_time": "2020-09-16T08:06:45.813815Z",
          "start_time": "2020-09-16T08:06:41.109036Z"
        },
        "id": "Kk4bTvwHtd5k",
        "colab_type": "code",
        "colab": {}
      },
      "source": [
        "#%%\n",
        "# Define constant\n",
        "BATCH_SIZE = 32\n",
        "IMAGE_SIZE_WITHOUT_CHANNEL= (608, 736)\n",
        "IMAGE_SIZE_WITH_CHANNEL = (608, 736, 3)\n",
        "VALIDATION_RATE = 0.2\n",
        "OUTPUT_CLASS = 73476\n",
        "BATCH_SIZE = 32 \n",
        "EPOCH = 10\n",
        "CHECKPOINT = os.path.join(os.getcwd(),'checkpoint','model.h5')\n",
        "DATA_DIR = 'data_1/'\n",
        "TRAIN_DIR = os.path.join(DATA_DIR, 'train')\n",
        "TEST_DIR = os.path.join(DATA_DIR, 'test')\n",
        "TRAIN_FILE = os.path.join(TRAIN_DIR, 'train.csv')"
      ],
      "execution_count": 83,
      "outputs": []
    },
    {
      "cell_type": "markdown",
      "metadata": {
        "id": "EFl5H_Ejtd5m",
        "colab_type": "text"
      },
      "source": [
        "# Loading training data"
      ]
    },
    {
      "cell_type": "code",
      "metadata": {
        "ExecuteTime": {
          "end_time": "2020-09-16T08:44:20.304561Z",
          "start_time": "2020-09-16T08:44:14.568432Z"
        },
        "id": "9eny4lkBtd5n",
        "colab_type": "code",
        "colab": {
          "base_uri": "https://localhost:8080/",
          "height": 419
        },
        "outputId": "c362e9c6-b5ff-457b-f86b-f7fbe5781539"
      },
      "source": [
        "train_df = pd.read_csv(TRAIN_FILE)\n",
        "train_df.landmark_id = train_df.landmark_id.astype(str)\n",
        "train_df[\"location\"] = os.getcwd() +\"/\"+ TRAIN_DIR + \"/\"+train_df.id.str[0]+\"/\"+train_df.id.str[1]+\"/\"+train_df.id.str[2]+\"/\"+train_df.id+\".jpg\"\n",
        "train_df = train_df[:1000]\n",
        "train_df\n",
        "#train_df = train_df.sample(10000, random_state=10)"
      ],
      "execution_count": 84,
      "outputs": [
        {
          "output_type": "execute_result",
          "data": {
            "text/html": [
              "<div>\n",
              "<style scoped>\n",
              "    .dataframe tbody tr th:only-of-type {\n",
              "        vertical-align: middle;\n",
              "    }\n",
              "\n",
              "    .dataframe tbody tr th {\n",
              "        vertical-align: top;\n",
              "    }\n",
              "\n",
              "    .dataframe thead th {\n",
              "        text-align: right;\n",
              "    }\n",
              "</style>\n",
              "<table border=\"1\" class=\"dataframe\">\n",
              "  <thead>\n",
              "    <tr style=\"text-align: right;\">\n",
              "      <th></th>\n",
              "      <th>id</th>\n",
              "      <th>landmark_id</th>\n",
              "      <th>location</th>\n",
              "    </tr>\n",
              "  </thead>\n",
              "  <tbody>\n",
              "    <tr>\n",
              "      <th>0</th>\n",
              "      <td>17660ef415d37059</td>\n",
              "      <td>1</td>\n",
              "      <td>/content/data_1/train/1/7/6/17660ef415d37059.jpg</td>\n",
              "    </tr>\n",
              "    <tr>\n",
              "      <th>1</th>\n",
              "      <td>92b6290d571448f6</td>\n",
              "      <td>1</td>\n",
              "      <td>/content/data_1/train/9/2/b/92b6290d571448f6.jpg</td>\n",
              "    </tr>\n",
              "    <tr>\n",
              "      <th>2</th>\n",
              "      <td>cd41bf948edc0340</td>\n",
              "      <td>1</td>\n",
              "      <td>/content/data_1/train/c/d/4/cd41bf948edc0340.jpg</td>\n",
              "    </tr>\n",
              "    <tr>\n",
              "      <th>3</th>\n",
              "      <td>fb09f1e98c6d2f70</td>\n",
              "      <td>1</td>\n",
              "      <td>/content/data_1/train/f/b/0/fb09f1e98c6d2f70.jpg</td>\n",
              "    </tr>\n",
              "    <tr>\n",
              "      <th>4</th>\n",
              "      <td>25c9dfc7ea69838d</td>\n",
              "      <td>7</td>\n",
              "      <td>/content/data_1/train/2/5/c/25c9dfc7ea69838d.jpg</td>\n",
              "    </tr>\n",
              "    <tr>\n",
              "      <th>...</th>\n",
              "      <td>...</td>\n",
              "      <td>...</td>\n",
              "      <td>...</td>\n",
              "    </tr>\n",
              "    <tr>\n",
              "      <th>995</th>\n",
              "      <td>097eb9044f50f8f6</td>\n",
              "      <td>111</td>\n",
              "      <td>/content/data_1/train/0/9/7/097eb9044f50f8f6.jpg</td>\n",
              "    </tr>\n",
              "    <tr>\n",
              "      <th>996</th>\n",
              "      <td>12a131a926cd6deb</td>\n",
              "      <td>111</td>\n",
              "      <td>/content/data_1/train/1/2/a/12a131a926cd6deb.jpg</td>\n",
              "    </tr>\n",
              "    <tr>\n",
              "      <th>997</th>\n",
              "      <td>8ad0c1ccca45e21c</td>\n",
              "      <td>111</td>\n",
              "      <td>/content/data_1/train/8/a/d/8ad0c1ccca45e21c.jpg</td>\n",
              "    </tr>\n",
              "    <tr>\n",
              "      <th>998</th>\n",
              "      <td>8fafc38f0fb824d2</td>\n",
              "      <td>111</td>\n",
              "      <td>/content/data_1/train/8/f/a/8fafc38f0fb824d2.jpg</td>\n",
              "    </tr>\n",
              "    <tr>\n",
              "      <th>999</th>\n",
              "      <td>ae5537069b856bc3</td>\n",
              "      <td>111</td>\n",
              "      <td>/content/data_1/train/a/e/5/ae5537069b856bc3.jpg</td>\n",
              "    </tr>\n",
              "  </tbody>\n",
              "</table>\n",
              "<p>1000 rows × 3 columns</p>\n",
              "</div>"
            ],
            "text/plain": [
              "                   id  ...                                          location\n",
              "0    17660ef415d37059  ...  /content/data_1/train/1/7/6/17660ef415d37059.jpg\n",
              "1    92b6290d571448f6  ...  /content/data_1/train/9/2/b/92b6290d571448f6.jpg\n",
              "2    cd41bf948edc0340  ...  /content/data_1/train/c/d/4/cd41bf948edc0340.jpg\n",
              "3    fb09f1e98c6d2f70  ...  /content/data_1/train/f/b/0/fb09f1e98c6d2f70.jpg\n",
              "4    25c9dfc7ea69838d  ...  /content/data_1/train/2/5/c/25c9dfc7ea69838d.jpg\n",
              "..                ...  ...                                               ...\n",
              "995  097eb9044f50f8f6  ...  /content/data_1/train/0/9/7/097eb9044f50f8f6.jpg\n",
              "996  12a131a926cd6deb  ...  /content/data_1/train/1/2/a/12a131a926cd6deb.jpg\n",
              "997  8ad0c1ccca45e21c  ...  /content/data_1/train/8/a/d/8ad0c1ccca45e21c.jpg\n",
              "998  8fafc38f0fb824d2  ...  /content/data_1/train/8/f/a/8fafc38f0fb824d2.jpg\n",
              "999  ae5537069b856bc3  ...  /content/data_1/train/a/e/5/ae5537069b856bc3.jpg\n",
              "\n",
              "[1000 rows x 3 columns]"
            ]
          },
          "metadata": {
            "tags": []
          },
          "execution_count": 84
        }
      ]
    },
    {
      "cell_type": "code",
      "metadata": {
        "ExecuteTime": {
          "end_time": "2020-09-16T08:08:34.727382Z",
          "start_time": "2020-09-16T08:08:34.031121Z"
        },
        "id": "Dj0JsEQVtd5w",
        "colab_type": "code",
        "colab": {
          "base_uri": "https://localhost:8080/",
          "height": 105
        },
        "outputId": "b93d829f-88e7-4f17-d83a-5430fedef012"
      },
      "source": [
        "gen = ImageDataGenerator(rescale=1./255, validation_split=VALIDATION_RATE)\n",
        "train_generator = gen.flow_from_dataframe(\n",
        "    dataframe=train_df,\n",
        "    directory=TRAIN_DIR,\n",
        "    x_col=\"location\",\n",
        "    y_col=\"landmark_id\",\n",
        "    target_size=IMAGE_SIZE_WITHOUT_CHANNEL,\n",
        "    seed=42,\n",
        "    shuffle=True,\n",
        "    batch_size=BATCH_SIZE,\n",
        "    subset=\"training\",\n",
        "    colormode=\"rgb\"\n",
        ")\n",
        "validation_generator = gen.flow_from_dataframe(\n",
        "    dataframe=train_df,\n",
        "    directory=TRAIN_DIR,\n",
        "    x_col=\"location\",\n",
        "    y_col=\"landmark_id\",\n",
        "    target_size=IMAGE_SIZE_WITHOUT_CHANNEL,\n",
        "    class_mode=\"categorical\",\n",
        "    batch_size=BATCH_SIZE,\n",
        "    seed=42,\n",
        "    shuffle=True,\n",
        "    subset=\"validation\",\n",
        "    colormode=\"rgb\"\n",
        ")"
      ],
      "execution_count": 85,
      "outputs": [
        {
          "output_type": "stream",
          "text": [
            "Found 244 validated image filenames belonging to 40 classes.\n",
            "Found 61 validated image filenames belonging to 40 classes.\n"
          ],
          "name": "stdout"
        },
        {
          "output_type": "stream",
          "text": [
            "/usr/local/lib/python3.6/dist-packages/keras_preprocessing/image/dataframe_iterator.py:282: UserWarning: Found 695 invalid image filename(s) in x_col=\"location\". These filename(s) will be ignored.\n",
            "  .format(n_invalid, x_col)\n"
          ],
          "name": "stderr"
        }
      ]
    },
    {
      "cell_type": "code",
      "metadata": {
        "id": "owmh2SQqtd5y",
        "colab_type": "code",
        "colab": {}
      },
      "source": [
        ""
      ],
      "execution_count": 85,
      "outputs": []
    },
    {
      "cell_type": "markdown",
      "metadata": {
        "ExecuteTime": {
          "end_time": "2020-09-14T01:41:10.137957Z",
          "start_time": "2020-09-14T01:41:08.477696Z"
        },
        "id": "6G_u--yhtd51",
        "colab_type": "text"
      },
      "source": [
        "# Base model"
      ]
    },
    {
      "cell_type": "code",
      "metadata": {
        "ExecuteTime": {
          "end_time": "2020-09-16T08:08:47.388776Z",
          "start_time": "2020-09-16T08:08:47.174960Z"
        },
        "scrolled": false,
        "id": "SKp4Pp4xtd51",
        "colab_type": "code",
        "colab": {}
      },
      "source": [
        "def base_model():\n",
        "\n",
        "  model = Sequential()\n",
        "  model.add(Conv2D(16, kernel_size=(3, 3), activation='relu', input_shape=IMAGE_SIZE_WITH_CHANNEL))\n",
        "  model.add(MaxPool2D(pool_size=(2, 2)))\n",
        "  model.add(Conv2D(64, kernel_size=(3, 3), activation='relu'))\n",
        "  model.add(MaxPool2D(pool_size=(2, 2)))\n",
        "  model.add(Conv2D(128, kernel_size=(3, 3), activation='relu'))\n",
        "  model.add(MaxPool2D(pool_size=(2, 2)))\n",
        "  model.add(Conv2D(128, kernel_size=(3, 3), activation='relu'))\n",
        "  model.add(MaxPool2D(pool_size=(2, 2)))\n",
        "  model.add(Conv2D(256, kernel_size=(3, 3), activation='relu'))\n",
        "  model.add(MaxPool2D(pool_size=(2, 2)))\n",
        "  model.add(Conv2D(128, kernel_size=(3, 3), activation='relu'))\n",
        "  model.add(MaxPool2D(pool_size=(2, 2)))\n",
        "  model.add(Conv2D(64, kernel_size=(3, 3), activation='relu'))\n",
        "  model.add(MaxPool2D(pool_size=(2, 2)))\n",
        "  model.add(Flatten())\n",
        "  model.add(Dense(128, activation='relu'))\n",
        "  model.add(Dropout(.3))\n",
        "  model.add(Dense(256, activation='relu'))\n",
        "  model.add(Dropout(.3))\n",
        "  model.add(Dense(512, activation='relu'))\n",
        "  model.add(Dropout(.3))\n",
        "  model.add(Dense(40, activation='softmax'))\n",
        "  return model"
      ],
      "execution_count": 86,
      "outputs": []
    },
    {
      "cell_type": "code",
      "metadata": {
        "id": "ztVcthX_eHF8",
        "colab_type": "code",
        "colab": {}
      },
      "source": [
        "def get_callback(reduceLR=True, chkPoint=True, earlyStop=True):\n",
        "  callbacks = []\n",
        "  if reduceLR:\n",
        "    reduceLR = ReduceLROnPlateau(monitor = 'val_accuracy',\n",
        "                                patience = 2,\n",
        "                                factor = 0.5,\n",
        "                                min_lr = 1e-2,\n",
        "                                verbose = 1)\n",
        "    callbacks.append(reduceLR)\n",
        "  if chkPoint:\n",
        "    if not os.path.isdir(os.path.dirname(CHECKPOINT)):\n",
        "      os.makedirs(os.path.dirname(CHECKPOINT))\n",
        "    chkPoint = ModelCheckpoint(CHECKPOINT,\n",
        "                              monitor = 'loss',\n",
        "                              save_best_only = True,\n",
        "                              save_weights_only = False,\n",
        "                              mode = 'auto',\n",
        "                              save_freq = 'epoch',\n",
        "                              verbose = 1)\n",
        "    callbacks.append(chkPoint)\n",
        "  if earlyStop:\n",
        "    earlyStop = EarlyStopping(monitor='val_root_accuracy',\n",
        "                              mode = 'auto',\n",
        "                              patience = 4,\n",
        "                              min_delta = 0,\n",
        "                              verbose = 1)\n",
        "    callabacks.append(earlyStop)\n",
        "  \n",
        "  return callbacks"
      ],
      "execution_count": 141,
      "outputs": []
    },
    {
      "cell_type": "code",
      "metadata": {
        "id": "Hb8DQYbtb66F",
        "colab_type": "code",
        "colab": {}
      },
      "source": [
        "def get_model(model_type='base'):\n",
        "  if os.path.isfile(CHECKPOINT):\n",
        "    print(\"A model already exists\")\n",
        "    model = tf.keras.models.load_model(CHECKPOINT)\n",
        "    return model\n",
        "  print(\"No check point model exists. Creating model now\")\n",
        "  if model_type=='base':\n",
        "    model = base_model()\n",
        "  \n",
        "  # Compile the model \n",
        "  model.compile(optimizers.Adam(lr=0.001, decay=1e-6), loss=\"categorical_crossentropy\", metrics=[\"accuracy\"])\n",
        "  return model"
      ],
      "execution_count": 142,
      "outputs": []
    },
    {
      "cell_type": "code",
      "metadata": {
        "ExecuteTime": {
          "end_time": "2020-09-16T08:08:50.618546Z",
          "start_time": "2020-09-16T08:08:50.605706Z"
        },
        "id": "VJt3Nvw3td53",
        "colab_type": "code",
        "colab": {}
      },
      "source": [
        ""
      ],
      "execution_count": 142,
      "outputs": []
    },
    {
      "cell_type": "code",
      "metadata": {
        "ExecuteTime": {
          "end_time": "2020-09-16T08:09:08.162630Z",
          "start_time": "2020-09-16T08:09:08.158505Z"
        },
        "id": "O_j7e57ytd55",
        "colab_type": "code",
        "colab": {
          "base_uri": "https://localhost:8080/",
          "height": 34
        },
        "outputId": "2818387d-598f-4b28-d93d-562f0a887401"
      },
      "source": [
        "steps_per_epoch = 40 // BATCH_SIZE\n",
        "steps_per_epoch"
      ],
      "execution_count": 143,
      "outputs": [
        {
          "output_type": "execute_result",
          "data": {
            "text/plain": [
              "1"
            ]
          },
          "metadata": {
            "tags": []
          },
          "execution_count": 143
        }
      ]
    },
    {
      "cell_type": "code",
      "metadata": {
        "ExecuteTime": {
          "end_time": "2020-09-16T08:25:00.303535Z",
          "start_time": "2020-09-16T08:09:12.334751Z"
        },
        "id": "29s9ZtFetd58",
        "colab_type": "code",
        "colab": {
          "base_uri": "https://localhost:8080/",
          "height": 1000
        },
        "outputId": "649cd792-9c45-4437-dd0b-7fd22def0e95"
      },
      "source": [
        "callback = get_callback(earlyStop=False)\n",
        "model = get_model()\n",
        "history = model.fit(train_generator, epochs=100, validation_data=validation_generator, verbose=1, callbacks=callback)"
      ],
      "execution_count": 144,
      "outputs": [
        {
          "output_type": "stream",
          "text": [
            "A model already exists\n",
            "Epoch 1/100\n",
            "8/8 [==============================] - ETA: 0s - loss: 0.0592 - accuracy: 0.9877\n",
            "Epoch 00001: loss improved from inf to 0.05920, saving model to /content/checkpoint/model.h5\n",
            "8/8 [==============================] - 4s 518ms/step - loss: 0.0592 - accuracy: 0.9877 - val_loss: 24.5386 - val_accuracy: 0.3607\n",
            "Epoch 2/100\n",
            "8/8 [==============================] - ETA: 0s - loss: 0.0244 - accuracy: 0.9959\n",
            "Epoch 00002: loss improved from 0.05920 to 0.02444, saving model to /content/checkpoint/model.h5\n",
            "8/8 [==============================] - 4s 452ms/step - loss: 0.0244 - accuracy: 0.9959 - val_loss: 25.7594 - val_accuracy: 0.3607\n",
            "Epoch 3/100\n",
            "8/8 [==============================] - ETA: 0s - loss: 0.0779 - accuracy: 0.9877\n",
            "Epoch 00003: loss did not improve from 0.02444\n",
            "8/8 [==============================] - 4s 474ms/step - loss: 0.0779 - accuracy: 0.9877 - val_loss: 31.8410 - val_accuracy: 0.3607\n",
            "Epoch 4/100\n",
            "8/8 [==============================] - ETA: 0s - loss: 0.1129 - accuracy: 0.9836\n",
            "Epoch 00004: loss did not improve from 0.02444\n",
            "8/8 [==============================] - 4s 450ms/step - loss: 0.1129 - accuracy: 0.9836 - val_loss: 27.6330 - val_accuracy: 0.3443\n",
            "Epoch 5/100\n",
            "8/8 [==============================] - ETA: 0s - loss: 0.0674 - accuracy: 0.9795\n",
            "Epoch 00005: loss did not improve from 0.02444\n",
            "8/8 [==============================] - 4s 450ms/step - loss: 0.0674 - accuracy: 0.9795 - val_loss: 23.0223 - val_accuracy: 0.3607\n",
            "Epoch 6/100\n",
            "8/8 [==============================] - ETA: 0s - loss: 0.0300 - accuracy: 0.9959\n",
            "Epoch 00006: loss did not improve from 0.02444\n",
            "8/8 [==============================] - 4s 449ms/step - loss: 0.0300 - accuracy: 0.9959 - val_loss: 24.5026 - val_accuracy: 0.3770\n",
            "Epoch 7/100\n",
            "8/8 [==============================] - ETA: 0s - loss: 0.0619 - accuracy: 0.9836\n",
            "Epoch 00007: loss did not improve from 0.02444\n",
            "8/8 [==============================] - 4s 451ms/step - loss: 0.0619 - accuracy: 0.9836 - val_loss: 22.8743 - val_accuracy: 0.3770\n",
            "Epoch 8/100\n",
            "8/8 [==============================] - ETA: 0s - loss: 0.0196 - accuracy: 0.9918\n",
            "Epoch 00008: loss improved from 0.02444 to 0.01963, saving model to /content/checkpoint/model.h5\n",
            "8/8 [==============================] - 4s 459ms/step - loss: 0.0196 - accuracy: 0.9918 - val_loss: 26.2958 - val_accuracy: 0.3770\n",
            "Epoch 9/100\n",
            "8/8 [==============================] - ETA: 0s - loss: 0.0851 - accuracy: 0.9795\n",
            "Epoch 00009: loss did not improve from 0.01963\n",
            "8/8 [==============================] - 4s 474ms/step - loss: 0.0851 - accuracy: 0.9795 - val_loss: 29.9888 - val_accuracy: 0.3770\n",
            "Epoch 10/100\n",
            "8/8 [==============================] - ETA: 0s - loss: 0.0234 - accuracy: 0.9959\n",
            "Epoch 00010: loss did not improve from 0.01963\n",
            "8/8 [==============================] - 4s 473ms/step - loss: 0.0234 - accuracy: 0.9959 - val_loss: 28.5852 - val_accuracy: 0.3770\n",
            "Epoch 11/100\n",
            "8/8 [==============================] - ETA: 0s - loss: 0.0285 - accuracy: 0.9918\n",
            "Epoch 00011: loss did not improve from 0.01963\n",
            "8/8 [==============================] - 4s 450ms/step - loss: 0.0285 - accuracy: 0.9918 - val_loss: 30.5862 - val_accuracy: 0.3770\n",
            "Epoch 12/100\n",
            "8/8 [==============================] - ETA: 0s - loss: 0.0304 - accuracy: 0.9959\n",
            "Epoch 00012: loss did not improve from 0.01963\n",
            "8/8 [==============================] - 4s 453ms/step - loss: 0.0304 - accuracy: 0.9959 - val_loss: 30.7423 - val_accuracy: 0.3770\n",
            "Epoch 13/100\n",
            "8/8 [==============================] - ETA: 0s - loss: 0.0123 - accuracy: 0.9959\n",
            "Epoch 00013: loss improved from 0.01963 to 0.01225, saving model to /content/checkpoint/model.h5\n",
            "8/8 [==============================] - 4s 456ms/step - loss: 0.0123 - accuracy: 0.9959 - val_loss: 30.6396 - val_accuracy: 0.3770\n",
            "Epoch 14/100\n",
            "8/8 [==============================] - ETA: 0s - loss: 0.0082 - accuracy: 0.9959\n",
            "Epoch 00014: loss improved from 0.01225 to 0.00818, saving model to /content/checkpoint/model.h5\n",
            "8/8 [==============================] - 4s 481ms/step - loss: 0.0082 - accuracy: 0.9959 - val_loss: 32.6794 - val_accuracy: 0.3770\n",
            "Epoch 15/100\n",
            "8/8 [==============================] - ETA: 0s - loss: 0.0233 - accuracy: 0.9918\n",
            "Epoch 00015: loss did not improve from 0.00818\n",
            "8/8 [==============================] - 4s 446ms/step - loss: 0.0233 - accuracy: 0.9918 - val_loss: 33.5802 - val_accuracy: 0.3770\n",
            "Epoch 16/100\n",
            "8/8 [==============================] - ETA: 0s - loss: 0.0162 - accuracy: 0.9877\n",
            "Epoch 00016: loss did not improve from 0.00818\n",
            "8/8 [==============================] - 4s 449ms/step - loss: 0.0162 - accuracy: 0.9877 - val_loss: 31.7709 - val_accuracy: 0.3770\n",
            "Epoch 17/100\n",
            "8/8 [==============================] - ETA: 0s - loss: 0.0189 - accuracy: 0.9918\n",
            "Epoch 00017: loss did not improve from 0.00818\n",
            "8/8 [==============================] - 4s 452ms/step - loss: 0.0189 - accuracy: 0.9918 - val_loss: 30.9836 - val_accuracy: 0.3770\n",
            "Epoch 18/100\n",
            "8/8 [==============================] - ETA: 0s - loss: 0.0117 - accuracy: 0.9959\n",
            "Epoch 00018: loss did not improve from 0.00818\n",
            "8/8 [==============================] - 4s 443ms/step - loss: 0.0117 - accuracy: 0.9959 - val_loss: 28.8473 - val_accuracy: 0.3770\n",
            "Epoch 19/100\n",
            "8/8 [==============================] - ETA: 0s - loss: 0.0092 - accuracy: 0.9959\n",
            "Epoch 00019: loss did not improve from 0.00818\n",
            "8/8 [==============================] - 4s 456ms/step - loss: 0.0092 - accuracy: 0.9959 - val_loss: 28.8205 - val_accuracy: 0.3770\n",
            "Epoch 20/100\n",
            "8/8 [==============================] - ETA: 0s - loss: 0.0098 - accuracy: 0.9959\n",
            "Epoch 00020: loss did not improve from 0.00818\n",
            "8/8 [==============================] - 4s 451ms/step - loss: 0.0098 - accuracy: 0.9959 - val_loss: 29.6242 - val_accuracy: 0.3770\n",
            "Epoch 21/100\n",
            "8/8 [==============================] - ETA: 0s - loss: 0.0106 - accuracy: 0.9959\n",
            "Epoch 00021: loss did not improve from 0.00818\n",
            "8/8 [==============================] - 4s 448ms/step - loss: 0.0106 - accuracy: 0.9959 - val_loss: 29.9706 - val_accuracy: 0.3607\n",
            "Epoch 22/100\n",
            "8/8 [==============================] - ETA: 0s - loss: 0.0669 - accuracy: 0.9836\n",
            "Epoch 00022: loss did not improve from 0.00818\n",
            "8/8 [==============================] - 4s 447ms/step - loss: 0.0669 - accuracy: 0.9836 - val_loss: 32.4047 - val_accuracy: 0.3607\n",
            "Epoch 23/100\n",
            "8/8 [==============================] - ETA: 0s - loss: 0.1179 - accuracy: 0.9918\n",
            "Epoch 00023: loss did not improve from 0.00818\n",
            "8/8 [==============================] - 4s 448ms/step - loss: 0.1179 - accuracy: 0.9918 - val_loss: 41.8189 - val_accuracy: 0.3770\n",
            "Epoch 24/100\n",
            "8/8 [==============================] - ETA: 0s - loss: 0.1985 - accuracy: 0.9713\n",
            "Epoch 00024: loss did not improve from 0.00818\n",
            "8/8 [==============================] - 4s 449ms/step - loss: 0.1985 - accuracy: 0.9713 - val_loss: 25.7974 - val_accuracy: 0.3607\n",
            "Epoch 25/100\n",
            "8/8 [==============================] - ETA: 0s - loss: 0.0587 - accuracy: 0.9836\n",
            "Epoch 00025: loss did not improve from 0.00818\n",
            "8/8 [==============================] - 4s 446ms/step - loss: 0.0587 - accuracy: 0.9836 - val_loss: 22.7266 - val_accuracy: 0.3770\n",
            "Epoch 26/100\n",
            "8/8 [==============================] - ETA: 0s - loss: 0.3306 - accuracy: 0.9631\n",
            "Epoch 00026: loss did not improve from 0.00818\n",
            "8/8 [==============================] - 4s 451ms/step - loss: 0.3306 - accuracy: 0.9631 - val_loss: 31.2489 - val_accuracy: 0.3770\n",
            "Epoch 27/100\n",
            "8/8 [==============================] - ETA: 0s - loss: 0.3477 - accuracy: 0.9385\n",
            "Epoch 00027: loss did not improve from 0.00818\n",
            "8/8 [==============================] - 4s 446ms/step - loss: 0.3477 - accuracy: 0.9385 - val_loss: 13.0693 - val_accuracy: 0.3607\n",
            "Epoch 28/100\n",
            "8/8 [==============================] - ETA: 0s - loss: 0.1818 - accuracy: 0.9590\n",
            "Epoch 00028: loss did not improve from 0.00818\n",
            "8/8 [==============================] - 4s 451ms/step - loss: 0.1818 - accuracy: 0.9590 - val_loss: 23.0053 - val_accuracy: 0.3607\n",
            "Epoch 29/100\n",
            "8/8 [==============================] - ETA: 0s - loss: 0.1428 - accuracy: 0.9754\n",
            "Epoch 00029: loss did not improve from 0.00818\n",
            "8/8 [==============================] - 4s 448ms/step - loss: 0.1428 - accuracy: 0.9754 - val_loss: 17.3748 - val_accuracy: 0.3607\n",
            "Epoch 30/100\n",
            "8/8 [==============================] - ETA: 0s - loss: 0.1361 - accuracy: 0.9713\n",
            "Epoch 00030: loss did not improve from 0.00818\n",
            "8/8 [==============================] - 4s 471ms/step - loss: 0.1361 - accuracy: 0.9713 - val_loss: 17.4459 - val_accuracy: 0.3607\n",
            "Epoch 31/100\n",
            "8/8 [==============================] - ETA: 0s - loss: 0.1160 - accuracy: 0.9836\n",
            "Epoch 00031: loss did not improve from 0.00818\n",
            "8/8 [==============================] - 4s 451ms/step - loss: 0.1160 - accuracy: 0.9836 - val_loss: 14.6939 - val_accuracy: 0.3279\n",
            "Epoch 32/100\n",
            "8/8 [==============================] - ETA: 0s - loss: 0.0543 - accuracy: 0.9877\n",
            "Epoch 00032: loss did not improve from 0.00818\n",
            "8/8 [==============================] - 4s 455ms/step - loss: 0.0543 - accuracy: 0.9877 - val_loss: 16.1362 - val_accuracy: 0.3443\n",
            "Epoch 33/100\n",
            "8/8 [==============================] - ETA: 0s - loss: 0.0441 - accuracy: 0.9836\n",
            "Epoch 00033: loss did not improve from 0.00818\n",
            "8/8 [==============================] - 4s 455ms/step - loss: 0.0441 - accuracy: 0.9836 - val_loss: 18.8467 - val_accuracy: 0.3607\n",
            "Epoch 34/100\n",
            "8/8 [==============================] - ETA: 0s - loss: 0.1025 - accuracy: 0.9877\n",
            "Epoch 00034: loss did not improve from 0.00818\n",
            "8/8 [==============================] - 4s 456ms/step - loss: 0.1025 - accuracy: 0.9877 - val_loss: 22.5407 - val_accuracy: 0.3607\n",
            "Epoch 35/100\n",
            "8/8 [==============================] - ETA: 0s - loss: 0.0256 - accuracy: 0.9877\n",
            "Epoch 00035: loss did not improve from 0.00818\n",
            "8/8 [==============================] - 4s 455ms/step - loss: 0.0256 - accuracy: 0.9877 - val_loss: 21.5800 - val_accuracy: 0.3607\n",
            "Epoch 36/100\n",
            "8/8 [==============================] - ETA: 0s - loss: 0.0519 - accuracy: 0.9918\n",
            "Epoch 00036: loss did not improve from 0.00818\n",
            "8/8 [==============================] - 4s 448ms/step - loss: 0.0519 - accuracy: 0.9918 - val_loss: 19.0071 - val_accuracy: 0.3607\n",
            "Epoch 37/100\n",
            "8/8 [==============================] - ETA: 0s - loss: 0.0203 - accuracy: 0.9918\n",
            "Epoch 00037: loss did not improve from 0.00818\n",
            "8/8 [==============================] - 4s 454ms/step - loss: 0.0203 - accuracy: 0.9918 - val_loss: 19.3109 - val_accuracy: 0.3443\n",
            "Epoch 38/100\n",
            "8/8 [==============================] - ETA: 0s - loss: 0.0074 - accuracy: 0.9959\n",
            "Epoch 00038: loss improved from 0.00818 to 0.00740, saving model to /content/checkpoint/model.h5\n",
            "8/8 [==============================] - 4s 489ms/step - loss: 0.0074 - accuracy: 0.9959 - val_loss: 21.2902 - val_accuracy: 0.3770\n",
            "Epoch 39/100\n",
            "8/8 [==============================] - ETA: 0s - loss: 0.0087 - accuracy: 1.0000\n",
            "Epoch 00039: loss did not improve from 0.00740\n",
            "8/8 [==============================] - 4s 458ms/step - loss: 0.0087 - accuracy: 1.0000 - val_loss: 22.3598 - val_accuracy: 0.3770\n",
            "Epoch 40/100\n",
            "8/8 [==============================] - ETA: 0s - loss: 0.0039 - accuracy: 1.0000\n",
            "Epoch 00040: loss improved from 0.00740 to 0.00393, saving model to /content/checkpoint/model.h5\n",
            "8/8 [==============================] - 4s 462ms/step - loss: 0.0039 - accuracy: 1.0000 - val_loss: 22.3544 - val_accuracy: 0.3770\n",
            "Epoch 41/100\n",
            "8/8 [==============================] - ETA: 0s - loss: 0.0040 - accuracy: 1.0000\n",
            "Epoch 00041: loss did not improve from 0.00393\n",
            "8/8 [==============================] - 4s 477ms/step - loss: 0.0040 - accuracy: 1.0000 - val_loss: 22.8745 - val_accuracy: 0.3770\n",
            "Epoch 42/100\n",
            "8/8 [==============================] - ETA: 0s - loss: 0.0043 - accuracy: 1.0000\n",
            "Epoch 00042: loss did not improve from 0.00393\n",
            "8/8 [==============================] - 4s 452ms/step - loss: 0.0043 - accuracy: 1.0000 - val_loss: 23.2741 - val_accuracy: 0.3770\n",
            "Epoch 43/100\n",
            "8/8 [==============================] - ETA: 0s - loss: 0.0093 - accuracy: 0.9959\n",
            "Epoch 00043: loss did not improve from 0.00393\n",
            "8/8 [==============================] - 4s 452ms/step - loss: 0.0093 - accuracy: 0.9959 - val_loss: 24.0659 - val_accuracy: 0.3770\n",
            "Epoch 44/100\n",
            "8/8 [==============================] - ETA: 0s - loss: 0.0156 - accuracy: 0.9959\n",
            "Epoch 00044: loss did not improve from 0.00393\n",
            "8/8 [==============================] - 4s 450ms/step - loss: 0.0156 - accuracy: 0.9959 - val_loss: 24.9099 - val_accuracy: 0.3770\n",
            "Epoch 45/100\n",
            "8/8 [==============================] - ETA: 0s - loss: 0.0019 - accuracy: 1.0000\n",
            "Epoch 00045: loss improved from 0.00393 to 0.00193, saving model to /content/checkpoint/model.h5\n",
            "8/8 [==============================] - 4s 462ms/step - loss: 0.0019 - accuracy: 1.0000 - val_loss: 24.7483 - val_accuracy: 0.3770\n",
            "Epoch 46/100\n",
            "8/8 [==============================] - ETA: 0s - loss: 0.0014 - accuracy: 1.0000\n",
            "Epoch 00046: loss improved from 0.00193 to 0.00143, saving model to /content/checkpoint/model.h5\n",
            "8/8 [==============================] - 4s 459ms/step - loss: 0.0014 - accuracy: 1.0000 - val_loss: 24.8629 - val_accuracy: 0.3770\n",
            "Epoch 47/100\n",
            "8/8 [==============================] - ETA: 0s - loss: 0.0237 - accuracy: 0.9877\n",
            "Epoch 00047: loss did not improve from 0.00143\n",
            "8/8 [==============================] - 4s 453ms/step - loss: 0.0237 - accuracy: 0.9877 - val_loss: 24.7643 - val_accuracy: 0.3607\n",
            "Epoch 48/100\n",
            "8/8 [==============================] - ETA: 0s - loss: 0.0015 - accuracy: 1.0000\n",
            "Epoch 00048: loss did not improve from 0.00143\n",
            "8/8 [==============================] - 4s 455ms/step - loss: 0.0015 - accuracy: 1.0000 - val_loss: 25.1900 - val_accuracy: 0.3607\n",
            "Epoch 49/100\n",
            "8/8 [==============================] - ETA: 0s - loss: 0.0086 - accuracy: 1.0000\n",
            "Epoch 00049: loss did not improve from 0.00143\n",
            "8/8 [==============================] - 4s 452ms/step - loss: 0.0086 - accuracy: 1.0000 - val_loss: 26.0093 - val_accuracy: 0.3607\n",
            "Epoch 50/100\n",
            "8/8 [==============================] - ETA: 0s - loss: 0.0022 - accuracy: 1.0000\n",
            "Epoch 00050: loss did not improve from 0.00143\n",
            "8/8 [==============================] - 4s 453ms/step - loss: 0.0022 - accuracy: 1.0000 - val_loss: 26.6910 - val_accuracy: 0.3607\n",
            "Epoch 51/100\n",
            "8/8 [==============================] - ETA: 0s - loss: 0.0040 - accuracy: 0.9959\n",
            "Epoch 00051: loss did not improve from 0.00143\n",
            "8/8 [==============================] - 4s 479ms/step - loss: 0.0040 - accuracy: 0.9959 - val_loss: 27.3755 - val_accuracy: 0.3607\n",
            "Epoch 52/100\n",
            "8/8 [==============================] - ETA: 0s - loss: 0.0401 - accuracy: 0.9836\n",
            "Epoch 00052: loss did not improve from 0.00143\n",
            "8/8 [==============================] - 4s 451ms/step - loss: 0.0401 - accuracy: 0.9836 - val_loss: 26.5866 - val_accuracy: 0.3607\n",
            "Epoch 53/100\n",
            "8/8 [==============================] - ETA: 0s - loss: 0.0021 - accuracy: 1.0000\n",
            "Epoch 00053: loss did not improve from 0.00143\n",
            "8/8 [==============================] - 4s 450ms/step - loss: 0.0021 - accuracy: 1.0000 - val_loss: 25.7900 - val_accuracy: 0.3607\n",
            "Epoch 54/100\n",
            "8/8 [==============================] - ETA: 0s - loss: 0.0056 - accuracy: 0.9959\n",
            "Epoch 00054: loss did not improve from 0.00143\n",
            "8/8 [==============================] - 4s 456ms/step - loss: 0.0056 - accuracy: 0.9959 - val_loss: 26.1157 - val_accuracy: 0.3607\n",
            "Epoch 55/100\n",
            "8/8 [==============================] - ETA: 0s - loss: 0.0051 - accuracy: 1.0000\n",
            "Epoch 00055: loss did not improve from 0.00143\n",
            "8/8 [==============================] - 4s 458ms/step - loss: 0.0051 - accuracy: 1.0000 - val_loss: 26.7358 - val_accuracy: 0.3770\n",
            "Epoch 56/100\n",
            "8/8 [==============================] - ETA: 0s - loss: 0.0037 - accuracy: 1.0000\n",
            "Epoch 00056: loss did not improve from 0.00143\n",
            "8/8 [==============================] - 4s 450ms/step - loss: 0.0037 - accuracy: 1.0000 - val_loss: 26.5038 - val_accuracy: 0.3607\n",
            "Epoch 57/100\n",
            "8/8 [==============================] - ETA: 0s - loss: 8.8665e-04 - accuracy: 1.0000\n",
            "Epoch 00057: loss improved from 0.00143 to 0.00089, saving model to /content/checkpoint/model.h5\n",
            "8/8 [==============================] - 4s 460ms/step - loss: 8.8665e-04 - accuracy: 1.0000 - val_loss: 26.1936 - val_accuracy: 0.3607\n",
            "Epoch 58/100\n",
            "8/8 [==============================] - ETA: 0s - loss: 0.0104 - accuracy: 0.9959\n",
            "Epoch 00058: loss did not improve from 0.00089\n",
            "8/8 [==============================] - 4s 455ms/step - loss: 0.0104 - accuracy: 0.9959 - val_loss: 26.3725 - val_accuracy: 0.3607\n",
            "Epoch 59/100\n",
            "8/8 [==============================] - ETA: 0s - loss: 0.0092 - accuracy: 0.9959\n",
            "Epoch 00059: loss did not improve from 0.00089\n",
            "8/8 [==============================] - 4s 451ms/step - loss: 0.0092 - accuracy: 0.9959 - val_loss: 27.0049 - val_accuracy: 0.3607\n",
            "Epoch 60/100\n",
            "8/8 [==============================] - ETA: 0s - loss: 0.0086 - accuracy: 0.9959\n",
            "Epoch 00060: loss did not improve from 0.00089\n",
            "8/8 [==============================] - 4s 458ms/step - loss: 0.0086 - accuracy: 0.9959 - val_loss: 28.1984 - val_accuracy: 0.3770\n",
            "Epoch 61/100\n",
            "8/8 [==============================] - ETA: 0s - loss: 0.0381 - accuracy: 0.9959\n",
            "Epoch 00061: loss did not improve from 0.00089\n",
            "8/8 [==============================] - 4s 454ms/step - loss: 0.0381 - accuracy: 0.9959 - val_loss: 24.0838 - val_accuracy: 0.3770\n",
            "Epoch 62/100\n",
            "8/8 [==============================] - ETA: 0s - loss: 0.0871 - accuracy: 0.9877\n",
            "Epoch 00062: loss did not improve from 0.00089\n",
            "8/8 [==============================] - 4s 457ms/step - loss: 0.0871 - accuracy: 0.9877 - val_loss: 22.6444 - val_accuracy: 0.3607\n",
            "Epoch 63/100\n",
            "8/8 [==============================] - ETA: 0s - loss: 0.0270 - accuracy: 0.9918\n",
            "Epoch 00063: loss did not improve from 0.00089\n",
            "8/8 [==============================] - 4s 453ms/step - loss: 0.0270 - accuracy: 0.9918 - val_loss: 27.3919 - val_accuracy: 0.3607\n",
            "Epoch 64/100\n",
            "8/8 [==============================] - ETA: 0s - loss: 0.0430 - accuracy: 0.9918\n",
            "Epoch 00064: loss did not improve from 0.00089\n",
            "8/8 [==============================] - 4s 449ms/step - loss: 0.0430 - accuracy: 0.9918 - val_loss: 30.5997 - val_accuracy: 0.3770\n",
            "Epoch 65/100\n",
            "8/8 [==============================] - ETA: 0s - loss: 0.0043 - accuracy: 1.0000\n",
            "Epoch 00065: loss did not improve from 0.00089\n",
            "8/8 [==============================] - 4s 447ms/step - loss: 0.0043 - accuracy: 1.0000 - val_loss: 31.2170 - val_accuracy: 0.3770\n",
            "Epoch 66/100\n",
            "8/8 [==============================] - ETA: 0s - loss: 0.0231 - accuracy: 0.9918\n",
            "Epoch 00066: loss did not improve from 0.00089\n",
            "8/8 [==============================] - 4s 451ms/step - loss: 0.0231 - accuracy: 0.9918 - val_loss: 28.3398 - val_accuracy: 0.3770\n",
            "Epoch 67/100\n",
            "8/8 [==============================] - ETA: 0s - loss: 0.0370 - accuracy: 0.9959\n",
            "Epoch 00067: loss did not improve from 0.00089\n",
            "8/8 [==============================] - 4s 451ms/step - loss: 0.0370 - accuracy: 0.9959 - val_loss: 27.7290 - val_accuracy: 0.3607\n",
            "Epoch 68/100\n",
            "8/8 [==============================] - ETA: 0s - loss: 0.0176 - accuracy: 0.9959\n",
            "Epoch 00068: loss did not improve from 0.00089\n",
            "8/8 [==============================] - 4s 449ms/step - loss: 0.0176 - accuracy: 0.9959 - val_loss: 18.1940 - val_accuracy: 0.3607\n",
            "Epoch 69/100\n",
            "8/8 [==============================] - ETA: 0s - loss: 0.0742 - accuracy: 0.9877\n",
            "Epoch 00069: loss did not improve from 0.00089\n",
            "8/8 [==============================] - 4s 462ms/step - loss: 0.0742 - accuracy: 0.9877 - val_loss: 24.8417 - val_accuracy: 0.3607\n",
            "Epoch 70/100\n",
            "8/8 [==============================] - ETA: 0s - loss: 0.0847 - accuracy: 0.9836\n",
            "Epoch 00070: loss did not improve from 0.00089\n",
            "8/8 [==============================] - 4s 462ms/step - loss: 0.0847 - accuracy: 0.9836 - val_loss: 24.6873 - val_accuracy: 0.3770\n",
            "Epoch 71/100\n",
            "8/8 [==============================] - ETA: 0s - loss: 0.0270 - accuracy: 0.9877\n",
            "Epoch 00071: loss did not improve from 0.00089\n",
            "8/8 [==============================] - 4s 457ms/step - loss: 0.0270 - accuracy: 0.9877 - val_loss: 20.3852 - val_accuracy: 0.3607\n",
            "Epoch 72/100\n",
            "8/8 [==============================] - ETA: 0s - loss: 0.0365 - accuracy: 0.9877\n",
            "Epoch 00072: loss did not improve from 0.00089\n",
            "8/8 [==============================] - 4s 451ms/step - loss: 0.0365 - accuracy: 0.9877 - val_loss: 29.1152 - val_accuracy: 0.3607\n",
            "Epoch 73/100\n",
            "8/8 [==============================] - ETA: 0s - loss: 0.0382 - accuracy: 0.9877\n",
            "Epoch 00073: loss did not improve from 0.00089\n",
            "8/8 [==============================] - 4s 451ms/step - loss: 0.0382 - accuracy: 0.9877 - val_loss: 27.9461 - val_accuracy: 0.3770\n",
            "Epoch 74/100\n",
            "8/8 [==============================] - ETA: 0s - loss: 0.0173 - accuracy: 0.9918\n",
            "Epoch 00074: loss did not improve from 0.00089\n",
            "8/8 [==============================] - 4s 455ms/step - loss: 0.0173 - accuracy: 0.9918 - val_loss: 24.7588 - val_accuracy: 0.3607\n",
            "Epoch 75/100\n",
            "8/8 [==============================] - ETA: 0s - loss: 0.0240 - accuracy: 0.9918\n",
            "Epoch 00075: loss did not improve from 0.00089\n",
            "8/8 [==============================] - 4s 454ms/step - loss: 0.0240 - accuracy: 0.9918 - val_loss: 24.1797 - val_accuracy: 0.3607\n",
            "Epoch 76/100\n",
            "8/8 [==============================] - ETA: 0s - loss: 0.0159 - accuracy: 0.9918\n",
            "Epoch 00076: loss did not improve from 0.00089\n",
            "8/8 [==============================] - 4s 456ms/step - loss: 0.0159 - accuracy: 0.9918 - val_loss: 26.6045 - val_accuracy: 0.3607\n",
            "Epoch 77/100\n",
            "8/8 [==============================] - ETA: 0s - loss: 0.0223 - accuracy: 0.9959\n",
            "Epoch 00077: loss did not improve from 0.00089\n",
            "8/8 [==============================] - 4s 460ms/step - loss: 0.0223 - accuracy: 0.9959 - val_loss: 29.0305 - val_accuracy: 0.3770\n",
            "Epoch 78/100\n",
            "8/8 [==============================] - ETA: 0s - loss: 0.0266 - accuracy: 0.9918\n",
            "Epoch 00078: loss did not improve from 0.00089\n",
            "8/8 [==============================] - 4s 452ms/step - loss: 0.0266 - accuracy: 0.9918 - val_loss: 30.9453 - val_accuracy: 0.3607\n",
            "Epoch 79/100\n",
            "8/8 [==============================] - ETA: 0s - loss: 0.0077 - accuracy: 0.9959\n",
            "Epoch 00079: loss did not improve from 0.00089\n",
            "8/8 [==============================] - 4s 451ms/step - loss: 0.0077 - accuracy: 0.9959 - val_loss: 32.4540 - val_accuracy: 0.3607\n",
            "Epoch 80/100\n",
            "8/8 [==============================] - ETA: 0s - loss: 0.0248 - accuracy: 0.9959\n",
            "Epoch 00080: loss did not improve from 0.00089\n",
            "8/8 [==============================] - 4s 454ms/step - loss: 0.0248 - accuracy: 0.9959 - val_loss: 25.5582 - val_accuracy: 0.3607\n",
            "Epoch 81/100\n",
            "8/8 [==============================] - ETA: 0s - loss: 0.1000 - accuracy: 0.9754\n",
            "Epoch 00081: loss did not improve from 0.00089\n",
            "8/8 [==============================] - 4s 454ms/step - loss: 0.1000 - accuracy: 0.9754 - val_loss: 21.6821 - val_accuracy: 0.3607\n",
            "Epoch 82/100\n",
            "8/8 [==============================] - ETA: 0s - loss: 0.0802 - accuracy: 0.9754\n",
            "Epoch 00082: loss did not improve from 0.00089\n",
            "8/8 [==============================] - 4s 451ms/step - loss: 0.0802 - accuracy: 0.9754 - val_loss: 43.9207 - val_accuracy: 0.3607\n",
            "Epoch 83/100\n",
            "8/8 [==============================] - ETA: 0s - loss: 0.1456 - accuracy: 0.9754\n",
            "Epoch 00083: loss did not improve from 0.00089\n",
            "8/8 [==============================] - 4s 474ms/step - loss: 0.1456 - accuracy: 0.9754 - val_loss: 17.6015 - val_accuracy: 0.3607\n",
            "Epoch 84/100\n",
            "8/8 [==============================] - ETA: 0s - loss: 0.1421 - accuracy: 0.9713\n",
            "Epoch 00084: loss did not improve from 0.00089\n",
            "8/8 [==============================] - 4s 455ms/step - loss: 0.1421 - accuracy: 0.9713 - val_loss: 18.8955 - val_accuracy: 0.3607\n",
            "Epoch 85/100\n",
            "8/8 [==============================] - ETA: 0s - loss: 0.0994 - accuracy: 0.9754\n",
            "Epoch 00085: loss did not improve from 0.00089\n",
            "8/8 [==============================] - 4s 450ms/step - loss: 0.0994 - accuracy: 0.9754 - val_loss: 17.9235 - val_accuracy: 0.3607\n",
            "Epoch 86/100\n",
            "8/8 [==============================] - ETA: 0s - loss: 0.0395 - accuracy: 0.9836\n",
            "Epoch 00086: loss did not improve from 0.00089\n",
            "8/8 [==============================] - 4s 455ms/step - loss: 0.0395 - accuracy: 0.9836 - val_loss: 18.4653 - val_accuracy: 0.3607\n",
            "Epoch 87/100\n",
            "8/8 [==============================] - ETA: 0s - loss: 0.2228 - accuracy: 0.9754\n",
            "Epoch 00087: loss did not improve from 0.00089\n",
            "8/8 [==============================] - 4s 450ms/step - loss: 0.2228 - accuracy: 0.9754 - val_loss: 25.2330 - val_accuracy: 0.3443\n",
            "Epoch 88/100\n",
            "8/8 [==============================] - ETA: 0s - loss: 0.0451 - accuracy: 0.9877\n",
            "Epoch 00088: loss did not improve from 0.00089\n",
            "8/8 [==============================] - 4s 453ms/step - loss: 0.0451 - accuracy: 0.9877 - val_loss: 16.5376 - val_accuracy: 0.3607\n",
            "Epoch 89/100\n",
            "8/8 [==============================] - ETA: 0s - loss: 0.1053 - accuracy: 0.9672\n",
            "Epoch 00089: loss did not improve from 0.00089\n",
            "8/8 [==============================] - 4s 449ms/step - loss: 0.1053 - accuracy: 0.9672 - val_loss: 22.1468 - val_accuracy: 0.3607\n",
            "Epoch 90/100\n",
            "8/8 [==============================] - ETA: 0s - loss: 0.1414 - accuracy: 0.9754\n",
            "Epoch 00090: loss did not improve from 0.00089\n",
            "8/8 [==============================] - 4s 477ms/step - loss: 0.1414 - accuracy: 0.9754 - val_loss: 23.2645 - val_accuracy: 0.3770\n",
            "Epoch 91/100\n",
            "8/8 [==============================] - ETA: 0s - loss: 0.0359 - accuracy: 0.9877\n",
            "Epoch 00091: loss did not improve from 0.00089\n",
            "8/8 [==============================] - 4s 451ms/step - loss: 0.0359 - accuracy: 0.9877 - val_loss: 29.1315 - val_accuracy: 0.3770\n",
            "Epoch 92/100\n",
            "8/8 [==============================] - ETA: 0s - loss: 0.1834 - accuracy: 0.9508\n",
            "Epoch 00092: loss did not improve from 0.00089\n",
            "8/8 [==============================] - 4s 453ms/step - loss: 0.1834 - accuracy: 0.9508 - val_loss: 19.6727 - val_accuracy: 0.3443\n",
            "Epoch 93/100\n",
            "8/8 [==============================] - ETA: 0s - loss: 0.1369 - accuracy: 0.9754\n",
            "Epoch 00093: loss did not improve from 0.00089\n",
            "8/8 [==============================] - 4s 445ms/step - loss: 0.1369 - accuracy: 0.9754 - val_loss: 21.2124 - val_accuracy: 0.3279\n",
            "Epoch 94/100\n",
            "8/8 [==============================] - ETA: 0s - loss: 0.0514 - accuracy: 0.9877\n",
            "Epoch 00094: loss did not improve from 0.00089\n",
            "8/8 [==============================] - 4s 451ms/step - loss: 0.0514 - accuracy: 0.9877 - val_loss: 18.5815 - val_accuracy: 0.3115\n",
            "Epoch 95/100\n",
            "8/8 [==============================] - ETA: 0s - loss: 0.0711 - accuracy: 0.9795\n",
            "Epoch 00095: loss did not improve from 0.00089\n",
            "8/8 [==============================] - 4s 454ms/step - loss: 0.0711 - accuracy: 0.9795 - val_loss: 19.4352 - val_accuracy: 0.3115\n",
            "Epoch 96/100\n",
            "8/8 [==============================] - ETA: 0s - loss: 0.0651 - accuracy: 0.9918\n",
            "Epoch 00096: loss did not improve from 0.00089\n",
            "8/8 [==============================] - 4s 455ms/step - loss: 0.0651 - accuracy: 0.9918 - val_loss: 17.3827 - val_accuracy: 0.2951\n",
            "Epoch 97/100\n",
            "8/8 [==============================] - ETA: 0s - loss: 0.0566 - accuracy: 0.9795\n",
            "Epoch 00097: loss did not improve from 0.00089\n",
            "8/8 [==============================] - 4s 457ms/step - loss: 0.0566 - accuracy: 0.9795 - val_loss: 18.3997 - val_accuracy: 0.3279\n",
            "Epoch 98/100\n",
            "8/8 [==============================] - ETA: 0s - loss: 0.0268 - accuracy: 0.9877\n",
            "Epoch 00098: loss did not improve from 0.00089\n",
            "8/8 [==============================] - 4s 478ms/step - loss: 0.0268 - accuracy: 0.9877 - val_loss: 19.9555 - val_accuracy: 0.3443\n",
            "Epoch 99/100\n",
            "8/8 [==============================] - ETA: 0s - loss: 0.0346 - accuracy: 0.9877\n",
            "Epoch 00099: loss did not improve from 0.00089\n",
            "8/8 [==============================] - 4s 456ms/step - loss: 0.0346 - accuracy: 0.9877 - val_loss: 22.7703 - val_accuracy: 0.3443\n",
            "Epoch 100/100\n",
            "8/8 [==============================] - ETA: 0s - loss: 0.0394 - accuracy: 0.9836\n",
            "Epoch 00100: loss did not improve from 0.00089\n",
            "8/8 [==============================] - 4s 450ms/step - loss: 0.0394 - accuracy: 0.9836 - val_loss: 16.7613 - val_accuracy: 0.3279\n"
          ],
          "name": "stdout"
        }
      ]
    },
    {
      "cell_type": "code",
      "metadata": {
        "id": "KVqoT5Oxtd6A",
        "colab_type": "code",
        "colab": {
          "base_uri": "https://localhost:8080/",
          "height": 282
        },
        "outputId": "302677a4-b823-46c3-d999-e92748954ca2"
      },
      "source": [
        "plt.plot(history.history['accuracy'])"
      ],
      "execution_count": 145,
      "outputs": [
        {
          "output_type": "execute_result",
          "data": {
            "text/plain": [
              "[<matplotlib.lines.Line2D at 0x7f22869e42b0>]"
            ]
          },
          "metadata": {
            "tags": []
          },
          "execution_count": 145
        },
        {
          "output_type": "display_data",
          "data": {
            "image/png": "[encoded data removed]",
            "text/plain": [
              "<Figure size 432x288 with 1 Axes>"
            ]
          },
          "metadata": {
            "tags": [],
            "needs_background": "light"
          }
        }
      ]
    },
    {
      "cell_type": "code",
      "metadata": {
        "id": "io2XXeVGR4ac",
        "colab_type": "code",
        "colab": {
          "base_uri": "https://localhost:8080/",
          "height": 282
        },
        "outputId": "07d67c21-fc55-4b97-98fc-ffbde97f4a1d"
      },
      "source": [
        "plt.plot(history.history['val_loss'])\n",
        "plt.plot(history.history['val_accuracy'])"
      ],
      "execution_count": 140,
      "outputs": [
        {
          "output_type": "execute_result",
          "data": {
            "text/plain": [
              "[<matplotlib.lines.Line2D at 0x7f22838ba278>]"
            ]
          },
          "metadata": {
            "tags": []
          },
          "execution_count": 140
        },
        {
          "output_type": "display_data",
          "data": {
            "image/png": "[encoded data removed]",
            "text/plain": [
              "<Figure size 432x288 with 1 Axes>"
            ]
          },
          "metadata": {
            "tags": [],
            "needs_background": "light"
          }
        }
      ]
    },
    {
      "cell_type": "code",
      "metadata": {
        "id": "JUzspTv7Sr7G",
        "colab_type": "code",
        "colab": {}
      },
      "source": [
        ""
      ],
      "execution_count": null,
      "outputs": []
    }
  ]
}